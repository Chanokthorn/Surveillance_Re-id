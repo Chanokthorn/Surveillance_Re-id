{
 "cells": [
  {
   "cell_type": "code",
   "execution_count": 1,
   "metadata": {},
   "outputs": [],
   "source": [
    "from IPython.display import clear_output\n",
    "# !wget http://188.138.127.15:81/Datasets/Market-1501-v15.09.15.zip\n",
    "# !unzip Market-1501-v15.09.15.zip\n",
    "clear_output()"
   ]
  },
  {
   "cell_type": "code",
   "execution_count": 2,
   "metadata": {},
   "outputs": [],
   "source": [
    "import torch\n",
    "import torchvision.models as models\n",
    "import torch.nn.functional as F"
   ]
  },
  {
   "cell_type": "code",
   "execution_count": null,
   "metadata": {},
   "outputs": [],
   "source": [
    "class Baseline(torch.nn.Module):\n",
    "    def __init__(self):\n",
    "        self.features_model = models.vgg16_bn(pretrained=True).features\n",
    "        \n",
    "    def forward(self, anchor, positive, negative):\n",
    "        # Expected input size as (_, 3, 224, 224)\n",
    "        # Output size is (_, 512, 7, 7)\n",
    "        # Resized to (_, 512*7*7)\n",
    "        anchor = self.features_model(anchor)\n",
    "        positive = self.features_model(positive)\n",
    "        negative = self.features_model(negative)\n",
    "        \n",
    "        return anchor, positive, negative\n",
    "\n",
    "def triplet_loss(anchor, positive, negative, margin):\n",
    "    _, c, h, w = anchor.shape\n",
    "    anchor = anchor.permute(0, 2, 3, 1).view(-1, h*w, c)\n",
    "    positive = positive.permute(0, 2, 3, 1).view(-1, h*w, c)\n",
    "    negative = negative.permute(0, 2, 3, 1).view(-1, h*w, c)\n",
    "    \n",
    "    dist_positive = torch.sum(torch.sum((anchor - positive)**2, dim=1)**0.5, dim=1)\n",
    "    dist_negative = torch.sum(torch.sum((anchor - positive)**2, dim=1)**0.5, dim=1)\n",
    "    \n",
    "#     dist_positive = F.pairwise_distance(anchor, positive, 2)\n",
    "#     dist_negative = F.pairwise_distance(anchor, negative, 2)\n",
    "\n",
    "    loss = F.relu(dist_positive - dist_negative + self.margin)\n",
    "    return loss\n",
    "\n",
    "# def lossless_triplet(anchor, positive, negative, beta=N, epsilon=1e-8):\n",
    "#     _, c, h, w = anchor.shape\n",
    "#     anchor = anchor.permute(0, 2, 3, 1).view(-1, c*h*w)\n",
    "    \n",
    "#     anchor = F.softmax(anchor, dim=1)\n",
    "#     positive = F.softmax(positive, dim=1)\n",
    "#     negative = F.softmax(negative, dim=1)\n",
    "    \n",
    "    \n",
    "#     loss = \n",
    "#     pass"
   ]
  },
  {
   "cell_type": "code",
   "execution_count": null,
   "metadata": {},
   "outputs": [],
   "source": [
    "# VGG input size (_, 3, 224, 224)\n",
    "print(model.features)"
   ]
  },
  {
   "cell_type": "code",
   "execution_count": 9,
   "metadata": {},
   "outputs": [
    {
     "data": {
      "text/plain": [
       "tensor([[12, 15, 18],\n",
       "        [39, 42, 45]])"
      ]
     },
     "execution_count": 9,
     "metadata": {},
     "output_type": "execute_result"
    }
   ],
   "source": [
    "import numpy as np\n",
    "torch.sum(torch.from_numpy(np.arange(1, 19).reshape(2, 3, 3)), dim=1)"
   ]
  },
  {
   "cell_type": "code",
   "execution_count": 27,
   "metadata": {},
   "outputs": [
    {
     "name": "stdout",
     "output_type": "stream",
     "text": [
      "tensor([-36,  18, -30,  24, -24,  30])\n"
     ]
    }
   ],
   "source": [
    "A, B = np.arange(1, 19).reshape(2, 3, 3), np.arange(19, 1, -1).reshape(2, 3, 3)\n",
    "A = np.moveaxis(A, [0, 1, 2], [1, 2, 0])\n",
    "B = np.moveaxis(B, [0, 1, 2], [1, 2, 0])\n",
    "\n",
    "print(torch.sum(torch.from_numpy((A - B).reshape(6, 3)), dim=1))"
   ]
  },
  {
   "cell_type": "markdown",
   "metadata": {},
   "source": [
    "<h1>Prepare Market-1501 dataset for triplet-loss<h1>"
   ]
  },
  {
   "cell_type": "code",
   "execution_count": 4,
   "metadata": {},
   "outputs": [],
   "source": [
    "import os\n",
    "import cv2\n",
    "import numpy as np\n",
    "\n",
    "trainDir = \"/home/bone/share/Re-id/Market-1501-v15.09.15/gt_bbox\"\n",
    "fileNames = os.listdir(trainDir)\n",
    "fileDict = {}\n",
    "personIDs = []\n",
    "for file in fileNames:\n",
    "    personID = file[0:4]\n",
    "    if personID in fileDict:\n",
    "        fileDict[personID].append(file)\n",
    "    else:\n",
    "        fileDict[personID] = [file]\n",
    "        personIDs.append(personID)"
   ]
  },
  {
   "cell_type": "code",
   "execution_count": 9,
   "metadata": {},
   "outputs": [
    {
     "name": "stderr",
     "output_type": "stream",
     "text": [
      "100%|██████████| 300/300 [00:02<00:00, 122.43it/s]"
     ]
    },
    {
     "name": "stdout",
     "output_type": "stream",
     "text": [
      "Done loading dataset. Shape:  (300, 3)\n"
     ]
    },
    {
     "name": "stderr",
     "output_type": "stream",
     "text": [
      "\n"
     ]
    }
   ],
   "source": [
    "from numpy import random\n",
    "from tqdm import tqdm\n",
    "\n",
    "def readFromGtBBox(name):\n",
    "    image = cv2.imread(trainDir + '/' + name)\n",
    "    ## Transform here\n",
    "    return image\n",
    "\n",
    "dataset = []\n",
    "dataframeAmount = 300\n",
    "for i in tqdm(range(dataframeAmount)):\n",
    "    subject = random.randint(0,len(personIDs))\n",
    "    subjectID = personIDs[subject]\n",
    "    negativeSubject = random.randint(0,len(personIDs))\n",
    "    negativeSubjectID = personIDs[negativeSubject]\n",
    "    anchor = fileDict[subjectID][random.randint(0,len(fileDict[subjectID]))]\n",
    "    positive = fileDict[subjectID][random.randint(0,len(fileDict[subjectID]))]\n",
    "    negative = fileDict[negativeSubjectID][random.randint(0,len(fileDict[negativeSubjectID]))]\n",
    "    dataset.append([readFromGtBBox(anchor),readFromGtBBox(positive),readFromGtBBox(negative)])\n",
    "\n",
    "dataset = np.asarray(dataset)\n",
    "print('Done loading dataset. Shape: ', dataset.shape)"
   ]
  },
  {
   "cell_type": "code",
   "execution_count": 22,
   "metadata": {},
   "outputs": [],
   "source": [
    "trainPortion = 0.8\n",
    "trainSet = dataset[0:int(dataset.shape[0] * trainPortion),:]\n",
    "testSet = dataset[int(dataset.shape[0] * trainPortion) :,:]"
   ]
  },
  {
   "cell_type": "code",
   "execution_count": 23,
   "metadata": {},
   "outputs": [],
   "source": [
    "import torchvision\n",
    "import torchvision.transforms as transforms\n",
    "import torchvision.datasets as datasets\n",
    "import torchvision.models as models\n",
    "import torch.utils.data as data\n",
    "\n",
    "def transformer(image):\n",
    "    image = transforms.Compose([\n",
    "        transforms.ToTensor(),\n",
    "        transforms.Normalize((0.485, 0.406, 0.456), (0.229, 0.225, 0.224)),\n",
    "        #transforms.RandomHorizontalFlip(p=0.5),\n",
    "    ])(image)\n",
    "    return image"
   ]
  },
  {
   "cell_type": "code",
   "execution_count": 27,
   "metadata": {},
   "outputs": [],
   "source": [
    "## Utilize the downloaded dataset ##\n",
    "class MarketTripletLoader(data.Dataset):\n",
    "    def __init__(self,train=True, transform=None):\n",
    "        self.transform = transform\n",
    "        if train:\n",
    "            imageShape = dataset[0,0].shape\n",
    "            self.marketImages = trainSet\n",
    "        else:\n",
    "            self.marketImages = testSet\n",
    "      \n",
    "    def __getitem__(self, idx):\n",
    "        anchor = self.marketImages[idx,0,:]\n",
    "        positive = self.marketImages[idx,1,:]\n",
    "        negative = self.marketImages[idx,2,:]\n",
    "        if self.transform:\n",
    "            anchor = self.transform(anchor)\n",
    "            positive = self.transform(positive)\n",
    "            negtive = self.transform(negative)\n",
    "        return anchor, positive, negative\n",
    "    \n",
    "    def __len__(self):\n",
    "        return self.marketImages.shape[0]"
   ]
  },
  {
   "cell_type": "code",
   "execution_count": 28,
   "metadata": {},
   "outputs": [],
   "source": [
    "marketTrain = MarketTripletLoader(transform = transformer)\n",
    "marketTest = MarketTripletLoader(train = False, transform = transformer)\n",
    "marketTrainLoader = data.DataLoader(dataset=marketTrain, batch_size=128,num_workers=4,shuffle=True)\n",
    "marketTestLoader = data.DataLoader(dataset=marketTest, batch_size=128,num_workers=4,shuffle=False)"
   ]
  }
 ],
 "metadata": {
  "kernelspec": {
   "display_name": "Python 3",
   "language": "python",
   "name": "python3"
  },
  "language_info": {
   "codemirror_mode": {
    "name": "ipython",
    "version": 3
   },
   "file_extension": ".py",
   "mimetype": "text/x-python",
   "name": "python",
   "nbconvert_exporter": "python",
   "pygments_lexer": "ipython3",
   "version": "3.6.6"
  }
 },
 "nbformat": 4,
 "nbformat_minor": 2
}
